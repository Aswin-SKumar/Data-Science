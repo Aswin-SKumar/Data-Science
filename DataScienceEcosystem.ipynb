{
 "cells": [
  {
   "cell_type": "markdown",
   "id": "255bf045-3824-4afc-b29f-e17575ed740f",
   "metadata": {},
   "source": [
    "# Data science Tools and Ecosystem"
   ]
  },
  {
   "cell_type": "markdown",
   "id": "77facab9-3c91-462f-beb2-646e2f3187a9",
   "metadata": {},
   "source": [
    "In this notbook data science tools and ecosystem are summarised"
   ]
  },
  {
   "cell_type": "markdown",
   "id": "d35de8e7-cbc5-44c5-8f95-7da6cb81bd92",
   "metadata": {},
   "source": [
    "**Objectives:**\n",
    "- list popular language\n",
    "- list libraries\n",
    "- list data science tools\n",
    "\n"
   ]
  },
  {
   "cell_type": "markdown",
   "id": "f998bccd-a46d-4ac2-9e2e-1d5fc9a98279",
   "metadata": {},
   "source": [
    "some of the popular language data scientiest uses are:"
   ]
  },
  {
   "cell_type": "markdown",
   "id": "d8d3067f-f6d8-4afa-8393-0b538aaa59e0",
   "metadata": {},
   "source": [
    "1. python\n",
    "2. R\n",
    "3. SQL\n",
    "4. scala\n",
    "5. java\n",
    "6. c++\n",
    "7. julia\n"
   ]
  },
  {
   "cell_type": "markdown",
   "id": "6f84410f-2c34-4f65-a8e5-9e393117b6fd",
   "metadata": {},
   "source": [
    "Some of the commonly used libraries used by Data Scientists include:"
   ]
  },
  {
   "cell_type": "markdown",
   "id": "c7e365ef-a9b8-4bc4-a7c8-dba4e8a39729",
   "metadata": {},
   "source": [
    "1. Pandas\n",
    "2. Numpy\n",
    "3. Scipy\n",
    "4. Matplotlib\n",
    "5. TensorFlow\n",
    "6. Scikit-Learn"
   ]
  },
  {
   "cell_type": "markdown",
   "id": "71abe885-b1d4-4acd-b251-dc9105a38481",
   "metadata": {},
   "source": [
    "|Data Science tools|\n",
    "|------------------|\n",
    "|GitHub|\n",
    "|git lab|\n",
    "|jupyter notbook|\n",
    "|Anaconda|\n",
    "|R studioi|"
   ]
  },
  {
   "cell_type": "markdown",
   "id": "af0a0f3e-ed4c-4f5b-a4f1-c563baf85549",
   "metadata": {},
   "source": [
    "### Below are a few examples of evaluating arithmetic expressions in Python"
   ]
  },
  {
   "cell_type": "code",
   "execution_count": 6,
   "id": "ca9b1fd7-6c2d-4375-95f9-25d2ae0efa89",
   "metadata": {},
   "outputs": [
    {
     "data": {
      "text/plain": [
       "17"
      ]
     },
     "execution_count": 6,
     "metadata": {},
     "output_type": "execute_result"
    }
   ],
   "source": [
    "(3*4)+5\n",
    "#this is a example of multiplication and addition"
   ]
  },
  {
   "cell_type": "code",
   "execution_count": 7,
   "id": "7cd890bd-1e73-4328-8e09-667331911d0b",
   "metadata": {},
   "outputs": [
    {
     "name": "stdout",
     "output_type": "stream",
     "text": [
      "Hours= 3\n"
     ]
    }
   ],
   "source": [
    "# This will convert 200 minutes to hours by diving by 60\n",
    "min=200\n",
    "h=min//60\n",
    "print(\"Hours=\",h)"
   ]
  },
  {
   "cell_type": "markdown",
   "id": "6fff615d-75b3-42ea-9c18-7dad467258e8",
   "metadata": {},
   "source": [
    "## Author\n",
    "Aswin S Kumar"
   ]
  },
  {
   "cell_type": "code",
   "execution_count": null,
   "id": "62888ea7-857d-4434-8b60-a09fe8bacfe8",
   "metadata": {},
   "outputs": [],
   "source": []
  }
 ],
 "metadata": {
  "kernelspec": {
   "display_name": "Python 3",
   "language": "python",
   "name": "python3"
  },
  "language_info": {
   "codemirror_mode": {
    "name": "ipython",
    "version": 3
   },
   "file_extension": ".py",
   "mimetype": "text/x-python",
   "name": "python",
   "nbconvert_exporter": "python",
   "pygments_lexer": "ipython3",
   "version": "3.11.7"
  }
 },
 "nbformat": 4,
 "nbformat_minor": 5
}
